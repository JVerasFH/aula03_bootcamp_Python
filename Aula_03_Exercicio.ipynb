{
 "cells": [
  {
   "cell_type": "code",
   "execution_count": null,
   "id": "0838387f",
   "metadata": {},
   "outputs": [
    {
     "name": "stdout",
     "output_type": "stream",
     "text": [
      "Dados Válidos\n"
     ]
    }
   ],
   "source": [
    "### Exercício 1: Verificação de Qualidade de Dados\n",
    "# Você está analisando um conjunto de dados de vendas e precisa garantir \n",
    "# que todos os registros tenham valores positivos para `quantidade` e `preço`. \n",
    "# Escreva um programa que verifique esses campos e imprima \"Dados válidos\" se ambos \n",
    "# forem positivos ou \"Dados inválidos\" caso contrário.\n",
    "\n",
    "quantidade = 100\n",
    "preco = 2.50\n",
    "\n",
    "if quantidade > 0 and preco > 0:\n",
    "    print(\"Dados Válidos\")\n",
    "else:\n",
    "    print(\"Dados Inválidos\")\n"
   ]
  },
  {
   "cell_type": "code",
   "execution_count": null,
   "id": "1d960a38",
   "metadata": {},
   "outputs": [
    {
     "name": "stdout",
     "output_type": "stream",
     "text": [
      "Temperatura é Normal\n"
     ]
    }
   ],
   "source": [
    "### Exercício 2: Classificação de Dados de Sensor\n",
    "# Imagine que você está trabalhando com dados de sensores IoT. \n",
    "# Os dados incluem medições de temperatura. Você precisa classificar cada leitura \n",
    "# como 'Baixa', 'Normal' ou 'Alta'. Considerando que:\n",
    "\n",
    "temperatura = 22\n",
    "\n",
    "if temperatura < 18:\n",
    "    print(\"Temperatura é Baixa\")\n",
    "elif temperatura >=18 and temperatura <=26:\n",
    "    print(\"Temperatura é Normal\")\n",
    "else:\n",
    "    print(\"Temperatura é Alta\")\n"
   ]
  },
  {
   "cell_type": "code",
   "execution_count": null,
   "id": "2d79a0fb",
   "metadata": {},
   "outputs": [
    {
     "name": "stdout",
     "output_type": "stream",
     "text": [
      "Falha na conexão\n"
     ]
    }
   ],
   "source": [
    "### Exercício 3: Filtragem de Logs por Severidade\n",
    "# Você está analisando logs de uma aplicação e precisa filtrar mensagens \n",
    "# com severidade 'ERROR'. Dado um registro de log em formato de dicionário \n",
    "# como `log = {'timestamp': '2021-06-23 10:00:00', 'level': 'ERROR', 'message': 'Falha na conexão'}`, \n",
    "# escreva um programa que imprima a mensagem se a severidade for 'ERROR'.\n",
    "\n",
    "log = {'timestamp': '2021-06-23 10:00:00', 'level': 'ERROR', 'message': 'Falha na conexão'}\n",
    "\n",
    "if log[\"level\"] == \"ERROR\":\n",
    "    print(log[\"message\"])\n"
   ]
  },
  {
   "cell_type": "code",
   "execution_count": null,
   "id": "e9d6e5bb",
   "metadata": {},
   "outputs": [
    {
     "name": "stdout",
     "output_type": "stream",
     "text": [
      "Email inválido\n"
     ]
    }
   ],
   "source": [
    "### Exercício 4: Validação de Dados de Entrada\n",
    "# Antes de processar os dados de usuários em um sistema de recomendação, \n",
    "# você precisa garantir que cada usuário tenha idade entre 18 e 65 anos e tenha \n",
    "# fornecido um email válido. Escreva um programa que valide essas condições \n",
    "# e imprima \"Dados de usuário válidos\" ou o erro específico encontrado.\n",
    "\n",
    "idade = 25  \n",
    "email = \"usuario@exemplo.com\"  \n",
    "\n",
    "if not 18 <= idade <=65:\n",
    "    print(\"Idade fora do intervalo permitido\")\n",
    "elif \"@\" not in email or \".\" not in email:\n",
    "    print(\"Email inválido\")\n",
    "else:\n",
    "    print(\"Dados do usuário válidos\")"
   ]
  },
  {
   "cell_type": "code",
   "execution_count": 14,
   "id": "1d8fcffb",
   "metadata": {},
   "outputs": [
    {
     "name": "stdout",
     "output_type": "stream",
     "text": [
      "Transação Suspeita\n"
     ]
    }
   ],
   "source": [
    "### Exercício 5: Detecção de Anomalias em Dados de Transações\n",
    "# Você está trabalhando em um sistema de detecção de fraude e precisa identificar \n",
    "# transações suspeitas. Uma transação é considerada suspeita se o valor for superior \n",
    "# a R$ 10.000 ou se ocorrer fora do horário comercial (antes das 9h ou depois das 18h). \n",
    "# Dada uma transação como `transacao = {'valor': 12000, 'hora': 20}`, verifique se ela é suspeita.\n",
    "\n",
    "transacao = {'valor': 11000, 'hora': 10}\n",
    "\n",
    "if transacao[\"valor\"]  > 10000:\n",
    "    print(\"Transação Suspeita\")\n",
    "elif 9 < transacao[\"hora\"] > 18:\n",
    "    print(\"Transação Supeita\")\n",
    "else:\n",
    "    print(\"Transação Válida\")\n"
   ]
  },
  {
   "cell_type": "code",
   "execution_count": 15,
   "id": "df2d79ac",
   "metadata": {},
   "outputs": [
    {
     "name": "stdout",
     "output_type": "stream",
     "text": [
      "{'a': 1, 'raposa': 1, 'marrom': 1, 'salta': 1, 'sobre': 1, 'o': 1, 'cachorro': 1, 'preguiçoso': 1}\n"
     ]
    }
   ],
   "source": [
    "### Exercício 6. Contagem de Palavras em Textos\n",
    "# Objetivo:** Dado um texto, contar quantas vezes cada palavra única aparece nele.\n",
    "\n",
    "texto = \"a raposa marrom salta sobre o cachorro preguiçoso\"\n",
    "palavras = texto.split()\n",
    "contagem_palavras = {}\n",
    "\n",
    "for palavra in palavras:\n",
    "    if palavra in contagem_palavras:\n",
    "        contagem_palavras[palavra] += 1\n",
    "    else:\n",
    "        contagem_palavras[palavra] = 1\n",
    "\n",
    "print(contagem_palavras)"
   ]
  },
  {
   "cell_type": "code",
   "execution_count": 22,
   "id": "b0316436",
   "metadata": {},
   "outputs": [
    {
     "name": "stdout",
     "output_type": "stream",
     "text": [
      "[0.0, 0.25, 0.5, 0.75, 1.0]\n"
     ]
    }
   ],
   "source": [
    "### Exercício 7. Normalização de Dados\n",
    "# Objetivo:** Normalizar uma lista de números para que fiquem na escala de 0 a 1.\n",
    "\n",
    "numeros = [10, 20, 30, 40, 50]\n",
    "\n",
    "minimo = min(numeros)\n",
    "maximo = max(numeros)\n",
    "\n",
    "normalizados = [(x - minimo) / (maximo - minimo) for x in numeros]\n",
    "\n",
    "print(normalizados)\n"
   ]
  },
  {
   "cell_type": "code",
   "execution_count": 30,
   "id": "76e0ead1",
   "metadata": {},
   "outputs": [
    {
     "name": "stdout",
     "output_type": "stream",
     "text": [
      "['Bob']\n"
     ]
    }
   ],
   "source": [
    "### Exercício 8. Filtragem de Dados Faltantes\n",
    "# Objetivo:** Dada uma lista de dicionários representando dados de usuários, filtrar aqueles que têm um campo específico faltando\n",
    "\n",
    "usuarios = [\n",
    "    {\"nome\": \"Alice\", \"email\": \"alice@example.com\"},\n",
    "    {\"nome\": \"Bob\", \"email\": \"\"},\n",
    "    {\"nome\": \"Carol\", \"email\": \"carol@example.com\"}\n",
    "]\n",
    "\n",
    "nomes_com_campos_vazios = [usuario[\"nome\"] for usuario in usuarios\n",
    "    if any(not valor for valor in usuario.values())\n",
    "]\n",
    "\n",
    "print(nomes_com_campos_vazios)"
   ]
  },
  {
   "cell_type": "code",
   "execution_count": 31,
   "id": "8a0eb4f8",
   "metadata": {},
   "outputs": [
    {
     "name": "stdout",
     "output_type": "stream",
     "text": [
      "[2, 4, 6, 8, 10]\n"
     ]
    }
   ],
   "source": [
    "### Exercício 9. Extração de Subconjuntos de Dados\n",
    "# Objetivo:** Dada uma lista de números, extrair apenas aqueles que são pares.\n",
    "\n",
    "numeros = range(1, 11)\n",
    "\n",
    "numeros_pares = [numero for numero in numeros if numero % 2 == 0]\n",
    "\n",
    "print(numeros_pares)"
   ]
  },
  {
   "cell_type": "code",
   "execution_count": 32,
   "id": "46d8e17a",
   "metadata": {},
   "outputs": [
    {
     "name": "stdout",
     "output_type": "stream",
     "text": [
      "{'eletrônicos': 2000, 'livros': 200}\n"
     ]
    }
   ],
   "source": [
    "### Exercício 10. Agregação de Dados por Categoria\n",
    "# Objetivo:** Dado um conjunto de registros de vendas, calcular o total de vendas por categoria.\n",
    "vendas = [\n",
    "    {\"categoria\": \"eletrônicos\", \"valor\": 1200},\n",
    "    {\"categoria\": \"livros\", \"valor\": 200},\n",
    "    {\"categoria\": \"eletrônicos\", \"valor\": 800}\n",
    "]\n",
    "\n",
    "total_por_categoria = {}\n",
    "\n",
    "for venda in vendas:\n",
    "    categoria = venda[\"categoria\"]\n",
    "    valor = venda[\"valor\"]\n",
    "\n",
    "    if categoria in total_por_categoria:\n",
    "        total_por_categoria[categoria] += valor\n",
    "    else:\n",
    "        total_por_categoria[categoria] = valor\n",
    "\n",
    "print(total_por_categoria)\n"
   ]
  },
  {
   "cell_type": "markdown",
   "id": "ab85b9db",
   "metadata": {},
   "source": [
    "### Exercícios com WHILE"
   ]
  },
  {
   "cell_type": "code",
   "execution_count": null,
   "id": "c700b62e",
   "metadata": {},
   "outputs": [],
   "source": [
    "### Exercício 11. Leitura de Dados até Flag\n",
    "# Ler dados de entrada até que uma palavra-chave específica (\"sair\") seja fornecida.\n",
    "\n",
    "dados = []\n",
    "entrada = \"\"\n",
    "\n",
    "while entrada.lower() != \"sair\":\n",
    "    entrada = input(\"Digite um valor ou 'sair' para terminar: \")\n",
    "    if entrada.lower() == \"sair\":\n",
    "        break\n"
   ]
  },
  {
   "cell_type": "code",
   "execution_count": null,
   "id": "d21f5379",
   "metadata": {},
   "outputs": [
    {
     "name": "stdout",
     "output_type": "stream",
     "text": [
      "Número fora do intervalo permitido\n",
      "Número fora do intervalo permitido\n",
      "Número válido!\n"
     ]
    }
   ],
   "source": [
    "### Exercício 12. Validação de Entrada\n",
    "# Solicitar ao usuário um número dentro de um intervalo específico até que a entrada seja válida.\n",
    "\n",
    "numero = int(input(\"Digite um número entre 1 e 10: \"))\n",
    "\n",
    "while numero < 1 or numero >10:\n",
    "    print(\"Número fora do intervalo permitido\")\n",
    "    numero = int(input(\"Por favor, digite um número entre 1 e 10: \"))\n",
    "\n",
    "print(\"Número válido!\")"
   ]
  },
  {
   "cell_type": "code",
   "execution_count": null,
   "id": "55961a7a",
   "metadata": {},
   "outputs": [
    {
     "name": "stdout",
     "output_type": "stream",
     "text": [
      "Processando página 1 de 5\n",
      "Processando página 2 de 5\n",
      "Processando página 3 de 5\n",
      "Processando página 4 de 5\n",
      "Processando página 5 de 5\n",
      "Todas as páginas foram processadas.\n"
     ]
    }
   ],
   "source": [
    "### Exercício 13. Consumo de API Simulado\n",
    "# Simular o consumo de uma API paginada, onde cada \"página\" de dados é processada em loop até que não haja mais páginas.\n",
    "\n",
    "pagina_atual = 1\n",
    "paginas_totais = 5  \n",
    "\n",
    "while pagina_atual <= paginas_totais:\n",
    "    print(f\"Processando página {pagina_atual} de {paginas_totais}\")\n",
    "    pagina_atual += 1\n",
    "\n",
    "print(\"Todas as páginas foram processadas.\")"
   ]
  },
  {
   "cell_type": "code",
   "execution_count": null,
   "id": "77fca397",
   "metadata": {},
   "outputs": [
    {
     "name": "stdout",
     "output_type": "stream",
     "text": [
      "Tentativa 1 de 5\n",
      "Conexão bem-sucedida!\n"
     ]
    }
   ],
   "source": [
    "### Exercício 14. Tentativas de Conexão\n",
    "# Simular tentativas de reconexão a um serviço com um limite máximo de tentativas.\n",
    "\n",
    "tentativas_maximas = 5\n",
    "tentativa = 1\n",
    "\n",
    "while tentativa <= tentativas_maximas:\n",
    "    print(f\"Tentativa {tentativa} de {tentativas_maximas}\")\n",
    "    \n",
    "    if True:  \n",
    "        print(\"Conexão bem-sucedida!\")\n",
    "        break\n",
    "    tentativa += 1\n",
    "else:\n",
    "    print(\"Falha ao conectar após várias tentativas.\")"
   ]
  },
  {
   "cell_type": "code",
   "execution_count": 6,
   "id": "10c25d59",
   "metadata": {},
   "outputs": [
    {
     "name": "stdout",
     "output_type": "stream",
     "text": [
      "Processando item: 1\n",
      "Processando item: 2\n",
      "Processando item: 3\n",
      "Parada encontrada, encerrando o processamento.\n"
     ]
    }
   ],
   "source": [
    "### Exercício 15. Processamento de Dados com Condição de Parada\n",
    "# Processar itens de uma lista até encontrar um valor específico que indica a parada.\n",
    "\n",
    "itens = [1, 2, 3, \"parar\", 4, 5]\n",
    "\n",
    "i = 0\n",
    "while i < len(itens):\n",
    "    if itens[i] == \"parar\":\n",
    "        print(\"Parada encontrada, encerrando o processamento.\")\n",
    "        break\n",
    "    # Processa o item\n",
    "    print(f\"Processando item: {itens[i]}\")\n",
    "    i += 1"
   ]
  }
 ],
 "metadata": {
  "kernelspec": {
   "display_name": "Python 3",
   "language": "python",
   "name": "python3"
  },
  "language_info": {
   "codemirror_mode": {
    "name": "ipython",
    "version": 3
   },
   "file_extension": ".py",
   "mimetype": "text/x-python",
   "name": "python",
   "nbconvert_exporter": "python",
   "pygments_lexer": "ipython3",
   "version": "3.13.6"
  }
 },
 "nbformat": 4,
 "nbformat_minor": 5
}
